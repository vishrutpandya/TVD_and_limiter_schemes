{
 "cells": [
  {
   "cell_type": "code",
   "execution_count": 1,
   "metadata": {},
   "outputs": [],
   "source": [
    "# Importing neccessary libraries\n",
    "import numpy as np\n",
    "import matplotlib.pyplot as plt \n",
    "from matplotlib.animation import FuncAnimation"
   ]
  },
  {
   "cell_type": "code",
   "execution_count": 2,
   "metadata": {},
   "outputs": [],
   "source": [
    "def IsothermalShockTube(nt, cfl_factor=0.5):\n",
    "    %matplotlib tk\n",
    "    \n",
    "    # Define parameters\n",
    "    a, b = -10, 10\n",
    "    nx = 100\n",
    "    x = np.linspace(a, b, nx)\n",
    "    dx = x[1] - x[0]\n",
    "    t = 0\n",
    "    dt = cfl_factor * dx / 1.0  # Use isothermal sound speed cs = 1\n",
    "    \n",
    "    # Initial conditions\n",
    "    theta_function = np.piecewise(x, [x <= 0, x > 0], [0, 1])\n",
    "    rho0 = 2 * theta_function + 1\n",
    "    v0 = np.zeros_like(x)\n",
    "\n",
    "    # Plotting initial condition\n",
    "    fig, ax = plt.subplots()\n",
    "    line_rho = ax.plot(x, rho0, label=\"Density\")[0]\n",
    "    ax.set_xlabel(r\"$x$\")\n",
    "    ax.set_ylabel(r\"Value\")\n",
    "    ax.set_title(\"Isothermal Shock Tube\")\n",
    "\n",
    "    # Set y-axis limits\n",
    "    ax.set_ylim(-3, 6)\n",
    "\n",
    "    # Copying the initial conditions for the array size and later updating them based on the function\n",
    "    rho = rho0.copy()\n",
    "    v = v0.copy()\n",
    "\n",
    "    # Define flux limiter function\n",
    "    def flux_limiter(r):\n",
    "        return max(0, min(1, r))\n",
    "\n",
    "    # Define Algorithm function\n",
    "    def Algorithm(frame):\n",
    "        nonlocal t, rho, v\n",
    "\n",
    "        # Calculate new timestep based on CFL condition\n",
    "        dt = cfl_factor * dx / max(np.max(np.abs(v)), 1.0)\n",
    "\n",
    "        # Transport step (momentum equation)\n",
    "        for i in range(nx):\n",
    "            dm = rho[i % nx] - rho[(i-1) % nx]\n",
    "            dp = rho[(i+1) % nx] - rho[i % nx]\n",
    "            rm = 0 if dm == 0 else (rho[(i-1) % nx] - rho[(i-2) % nx]) / dm\n",
    "            rp = 0 if dp == 0 else (rho[i % nx] - rho[(i-1) % nx]) / dp\n",
    "\n",
    "            phi_plus = flux_limiter(rp)\n",
    "            phi_minus = flux_limiter(rm)\n",
    "\n",
    "            fp = rho[i] * v[i] + abs(v[i]) * (1 - abs(v[i] * dt / dx)) * phi_plus\n",
    "            fm = rho[(i-1) % nx] * v[(i-1) % nx] + abs(v[(i-1) % nx]) * (1 - abs(v[(i-1) % nx] * dt / dx)) * phi_minus\n",
    "\n",
    "            rho[i] += (dt / dx) * (fm - fp)\n",
    "\n",
    "        # Source step (pressure force equation)\n",
    "        for i in range(nx):\n",
    "            rho[i] += -dt * (rho[i] * v[i])\n",
    "\n",
    "        # Velocity update\n",
    "        for i in range(nx):\n",
    "            v[i] = rho[i] / max(1e-6, rho[i])  # Avoid division by zero\n",
    "\n",
    "        # Update the plot with the new solution\n",
    "        line_rho.set_ydata(rho)\n",
    "\n",
    "        t += dt\n",
    "        return line_rho\n",
    "\n",
    "    # Create animation\n",
    "    anim = FuncAnimation(fig, Algorithm, frames=nt, interval=50)\n",
    "    \n",
    "    # Return animation\n",
    "    return anim"
   ]
  },
  {
   "cell_type": "code",
   "execution_count": 3,
   "metadata": {},
   "outputs": [
    {
     "data": {
      "text/plain": [
       "<matplotlib.animation.FuncAnimation at 0x1930aa4fd90>"
      ]
     },
     "execution_count": 3,
     "metadata": {},
     "output_type": "execute_result"
    }
   ],
   "source": [
    "# Run the simulation\n",
    "IsothermalShockTube(nt=600, cfl_factor=0.5)"
   ]
  },
  {
   "cell_type": "code",
   "execution_count": null,
   "metadata": {},
   "outputs": [],
   "source": []
  }
 ],
 "metadata": {
  "kernelspec": {
   "display_name": "Python 3",
   "language": "python",
   "name": "python3"
  },
  "language_info": {
   "codemirror_mode": {
    "name": "ipython",
    "version": 3
   },
   "file_extension": ".py",
   "mimetype": "text/x-python",
   "name": "python",
   "nbconvert_exporter": "python",
   "pygments_lexer": "ipython3",
   "version": "3.10.5"
  }
 },
 "nbformat": 4,
 "nbformat_minor": 2
}
